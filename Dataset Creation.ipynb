{
 "cells": [
  {
   "cell_type": "code",
   "execution_count": 1,
   "id": "1b9db2b1",
   "metadata": {},
   "outputs": [
    {
     "ename": "KeyboardInterrupt",
     "evalue": "",
     "output_type": "error",
     "traceback": [
      "\u001b[1;31m---------------------------------------------------------------------------\u001b[0m",
      "\u001b[1;31mKeyboardInterrupt\u001b[0m                         Traceback (most recent call last)",
      "Cell \u001b[1;32mIn[1], line 66\u001b[0m\n\u001b[0;32m     63\u001b[0m num_access_logs_records \u001b[38;5;241m=\u001b[39m \u001b[38;5;241m10000000\u001b[39m\n\u001b[0;32m     65\u001b[0m \u001b[38;5;66;03m# Generate datasets\u001b[39;00m\n\u001b[1;32m---> 66\u001b[0m facein_page_data \u001b[38;5;241m=\u001b[39m generate_facein_page_data(num_facein_page_records)\n\u001b[0;32m     67\u001b[0m associates_data \u001b[38;5;241m=\u001b[39m generate_associates_data(num_facein_page_records, num_associates_records)\n\u001b[0;32m     68\u001b[0m access_logs_data \u001b[38;5;241m=\u001b[39m generate_access_logs_data(num_access_logs_records)\n",
      "Cell \u001b[1;32mIn[1], line 15\u001b[0m, in \u001b[0;36mgenerate_facein_page_data\u001b[1;34m(num_records)\u001b[0m\n\u001b[0;32m     13\u001b[0m facein_page_data \u001b[38;5;241m=\u001b[39m []\n\u001b[0;32m     14\u001b[0m \u001b[38;5;28;01mfor\u001b[39;00m ID \u001b[38;5;129;01min\u001b[39;00m \u001b[38;5;28mrange\u001b[39m(\u001b[38;5;241m1\u001b[39m, num_records \u001b[38;5;241m+\u001b[39m \u001b[38;5;241m1\u001b[39m):\n\u001b[1;32m---> 15\u001b[0m     Name \u001b[38;5;241m=\u001b[39m fake\u001b[38;5;241m.\u001b[39mname()\n\u001b[0;32m     16\u001b[0m     Nationality \u001b[38;5;241m=\u001b[39m fake\u001b[38;5;241m.\u001b[39mcountry()\n\u001b[0;32m     17\u001b[0m     CountryCod \u001b[38;5;241m=\u001b[39m random_number(\u001b[38;5;241m1\u001b[39m, \u001b[38;5;241m50\u001b[39m)\n",
      "File \u001b[1;32m~\\anaconda3\\Lib\\site-packages\\faker\\providers\\person\\__init__.py:206\u001b[0m, in \u001b[0;36mProvider.name\u001b[1;34m(self)\u001b[0m\n\u001b[0;32m    202\u001b[0m \u001b[38;5;250m\u001b[39m\u001b[38;5;124;03m\"\"\"\u001b[39;00m\n\u001b[0;32m    203\u001b[0m \u001b[38;5;124;03m:example: 'John Doe'\u001b[39;00m\n\u001b[0;32m    204\u001b[0m \u001b[38;5;124;03m\"\"\"\u001b[39;00m\n\u001b[0;32m    205\u001b[0m pattern: \u001b[38;5;28mstr\u001b[39m \u001b[38;5;241m=\u001b[39m \u001b[38;5;28mself\u001b[39m\u001b[38;5;241m.\u001b[39mrandom_element(\u001b[38;5;28mself\u001b[39m\u001b[38;5;241m.\u001b[39mformats)\n\u001b[1;32m--> 206\u001b[0m \u001b[38;5;28;01mreturn\u001b[39;00m \u001b[38;5;28mself\u001b[39m\u001b[38;5;241m.\u001b[39mgenerator\u001b[38;5;241m.\u001b[39mparse(pattern)\n",
      "File \u001b[1;32m~\\anaconda3\\Lib\\site-packages\\faker\\generator.py:175\u001b[0m, in \u001b[0;36mGenerator.parse\u001b[1;34m(self, text)\u001b[0m\n\u001b[0;32m    161\u001b[0m \u001b[38;5;28;01mdef\u001b[39;00m \u001b[38;5;21mparse\u001b[39m(\u001b[38;5;28mself\u001b[39m, text: \u001b[38;5;28mstr\u001b[39m) \u001b[38;5;241m-\u001b[39m\u001b[38;5;241m>\u001b[39m \u001b[38;5;28mstr\u001b[39m:\n\u001b[0;32m    162\u001b[0m \u001b[38;5;250m    \u001b[39m\u001b[38;5;124;03m\"\"\"\u001b[39;00m\n\u001b[0;32m    163\u001b[0m \u001b[38;5;124;03m    Replaces tokens like '{{ tokenName }}' or '{{tokenName}}' in a string with\u001b[39;00m\n\u001b[0;32m    164\u001b[0m \u001b[38;5;124;03m    the result from the token method call. Arguments can be parsed by using an\u001b[39;00m\n\u001b[1;32m   (...)\u001b[0m\n\u001b[0;32m    173\u001b[0m \u001b[38;5;124;03m    generator.parse('{{ color:red_rgb }} - {{ pyint:small }}')\u001b[39;00m\n\u001b[0;32m    174\u001b[0m \u001b[38;5;124;03m    \"\"\"\u001b[39;00m\n\u001b[1;32m--> 175\u001b[0m     \u001b[38;5;28;01mreturn\u001b[39;00m _re_token\u001b[38;5;241m.\u001b[39msub(\u001b[38;5;28mself\u001b[39m\u001b[38;5;241m.\u001b[39m__format_token, text)\n",
      "File \u001b[1;32m~\\anaconda3\\Lib\\site-packages\\faker\\generator.py:189\u001b[0m, in \u001b[0;36mGenerator.__format_token\u001b[1;34m(self, matches)\u001b[0m\n\u001b[0;32m    187\u001b[0m     formatted \u001b[38;5;241m=\u001b[39m \u001b[38;5;28mstr\u001b[39m(\u001b[38;5;28mself\u001b[39m\u001b[38;5;241m.\u001b[39mformat(formatter, \u001b[38;5;241m*\u001b[39m\u001b[38;5;241m*\u001b[39marguments))\n\u001b[0;32m    188\u001b[0m \u001b[38;5;28;01melse\u001b[39;00m:\n\u001b[1;32m--> 189\u001b[0m     formatted \u001b[38;5;241m=\u001b[39m \u001b[38;5;28mstr\u001b[39m(\u001b[38;5;28mself\u001b[39m\u001b[38;5;241m.\u001b[39mformat(formatter))\n\u001b[0;32m    191\u001b[0m \u001b[38;5;28;01mreturn\u001b[39;00m \u001b[38;5;124m\"\u001b[39m\u001b[38;5;124m\"\u001b[39m\u001b[38;5;241m.\u001b[39mjoin(formatted)\n",
      "File \u001b[1;32m~\\anaconda3\\Lib\\site-packages\\faker\\generator.py:88\u001b[0m, in \u001b[0;36mGenerator.format\u001b[1;34m(self, formatter, *args, **kwargs)\u001b[0m\n\u001b[0;32m     84\u001b[0m \u001b[38;5;28;01mdef\u001b[39;00m \u001b[38;5;21mformat\u001b[39m(\u001b[38;5;28mself\u001b[39m, formatter: \u001b[38;5;28mstr\u001b[39m, \u001b[38;5;241m*\u001b[39margs: Any, \u001b[38;5;241m*\u001b[39m\u001b[38;5;241m*\u001b[39mkwargs: Any) \u001b[38;5;241m-\u001b[39m\u001b[38;5;241m>\u001b[39m \u001b[38;5;28mstr\u001b[39m:\n\u001b[0;32m     85\u001b[0m \u001b[38;5;250m    \u001b[39m\u001b[38;5;124;03m\"\"\"\u001b[39;00m\n\u001b[0;32m     86\u001b[0m \u001b[38;5;124;03m    This is a secure way to make a fake from another Provider.\u001b[39;00m\n\u001b[0;32m     87\u001b[0m \u001b[38;5;124;03m    \"\"\"\u001b[39;00m\n\u001b[1;32m---> 88\u001b[0m     \u001b[38;5;28;01mreturn\u001b[39;00m \u001b[38;5;28mself\u001b[39m\u001b[38;5;241m.\u001b[39mget_formatter(formatter)(\u001b[38;5;241m*\u001b[39margs, \u001b[38;5;241m*\u001b[39m\u001b[38;5;241m*\u001b[39mkwargs)\n",
      "File \u001b[1;32m~\\anaconda3\\Lib\\site-packages\\faker\\providers\\person\\__init__.py:240\u001b[0m, in \u001b[0;36mProvider.first_name_male\u001b[1;34m(self)\u001b[0m\n\u001b[0;32m    238\u001b[0m \u001b[38;5;28;01mdef\u001b[39;00m \u001b[38;5;21mfirst_name_male\u001b[39m(\u001b[38;5;28mself\u001b[39m) \u001b[38;5;241m-\u001b[39m\u001b[38;5;241m>\u001b[39m \u001b[38;5;28mstr\u001b[39m:\n\u001b[0;32m    239\u001b[0m     \u001b[38;5;28;01mif\u001b[39;00m \u001b[38;5;28mhasattr\u001b[39m(\u001b[38;5;28mself\u001b[39m, \u001b[38;5;124m\"\u001b[39m\u001b[38;5;124mfirst_names_male\u001b[39m\u001b[38;5;124m\"\u001b[39m):\n\u001b[1;32m--> 240\u001b[0m         \u001b[38;5;28;01mreturn\u001b[39;00m \u001b[38;5;28mself\u001b[39m\u001b[38;5;241m.\u001b[39mrandom_element(\u001b[38;5;28mself\u001b[39m\u001b[38;5;241m.\u001b[39mfirst_names_male)  \u001b[38;5;66;03m# type: ignore[attr-defined]\u001b[39;00m\n\u001b[0;32m    241\u001b[0m     \u001b[38;5;28;01mreturn\u001b[39;00m \u001b[38;5;28mself\u001b[39m\u001b[38;5;241m.\u001b[39mfirst_name()\n",
      "File \u001b[1;32m~\\anaconda3\\Lib\\site-packages\\faker\\providers\\__init__.py:552\u001b[0m, in \u001b[0;36mBaseProvider.random_element\u001b[1;34m(self, elements)\u001b[0m\n\u001b[0;32m    535\u001b[0m \u001b[38;5;28;01mdef\u001b[39;00m \u001b[38;5;21mrandom_element\u001b[39m(\u001b[38;5;28mself\u001b[39m, elements: ElementsType[T] \u001b[38;5;241m=\u001b[39m (\u001b[38;5;124m\"\u001b[39m\u001b[38;5;124ma\u001b[39m\u001b[38;5;124m\"\u001b[39m, \u001b[38;5;124m\"\u001b[39m\u001b[38;5;124mb\u001b[39m\u001b[38;5;124m\"\u001b[39m, \u001b[38;5;124m\"\u001b[39m\u001b[38;5;124mc\u001b[39m\u001b[38;5;124m\"\u001b[39m)) \u001b[38;5;241m-\u001b[39m\u001b[38;5;241m>\u001b[39m T:\n\u001b[0;32m    536\u001b[0m \u001b[38;5;250m    \u001b[39m\u001b[38;5;124;03m\"\"\"Generate a randomly sampled object from ``elements``.\u001b[39;00m\n\u001b[0;32m    537\u001b[0m \n\u001b[0;32m    538\u001b[0m \u001b[38;5;124;03m    For information on the ``elements`` argument, please refer to\u001b[39;00m\n\u001b[1;32m   (...)\u001b[0m\n\u001b[0;32m    549\u001b[0m \u001b[38;5;124;03m             ])\u001b[39;00m\n\u001b[0;32m    550\u001b[0m \u001b[38;5;124;03m    \"\"\"\u001b[39;00m\n\u001b[1;32m--> 552\u001b[0m     \u001b[38;5;28;01mreturn\u001b[39;00m \u001b[38;5;28mself\u001b[39m\u001b[38;5;241m.\u001b[39mrandom_elements(elements, length\u001b[38;5;241m=\u001b[39m\u001b[38;5;241m1\u001b[39m)[\u001b[38;5;241m0\u001b[39m]\n",
      "File \u001b[1;32m~\\anaconda3\\Lib\\site-packages\\faker\\providers\\__init__.py:500\u001b[0m, in \u001b[0;36mBaseProvider.random_elements\u001b[1;34m(self, elements, length, unique, use_weighting)\u001b[0m\n\u001b[0;32m    497\u001b[0m     choices \u001b[38;5;241m=\u001b[39m elements\n\u001b[0;32m    498\u001b[0m     probabilities \u001b[38;5;241m=\u001b[39m \u001b[38;5;28;01mNone\u001b[39;00m\n\u001b[1;32m--> 500\u001b[0m \u001b[38;5;28;01mreturn\u001b[39;00m fn(\n\u001b[0;32m    501\u001b[0m     \u001b[38;5;28mtuple\u001b[39m(choices),\n\u001b[0;32m    502\u001b[0m     probabilities,\n\u001b[0;32m    503\u001b[0m     \u001b[38;5;28mself\u001b[39m\u001b[38;5;241m.\u001b[39mgenerator\u001b[38;5;241m.\u001b[39mrandom,\n\u001b[0;32m    504\u001b[0m     length\u001b[38;5;241m=\u001b[39mlength,\n\u001b[0;32m    505\u001b[0m )\n",
      "File \u001b[1;32m~\\anaconda3\\Lib\\site-packages\\faker\\utils\\distribution.py:73\u001b[0m, in \u001b[0;36mchoices_distribution\u001b[1;34m(a, p, random, length)\u001b[0m\n\u001b[0;32m     71\u001b[0m         \u001b[38;5;28;01mreturn\u001b[39;00m [random\u001b[38;5;241m.\u001b[39mchoice(a)]\n\u001b[0;32m     72\u001b[0m     \u001b[38;5;28;01melse\u001b[39;00m:\n\u001b[1;32m---> 73\u001b[0m         \u001b[38;5;28;01mreturn\u001b[39;00m random\u001b[38;5;241m.\u001b[39mchoices(a, weights\u001b[38;5;241m=\u001b[39mp, k\u001b[38;5;241m=\u001b[39mlength)\n\u001b[0;32m     74\u001b[0m \u001b[38;5;28;01melse\u001b[39;00m:\n\u001b[0;32m     75\u001b[0m     choices \u001b[38;5;241m=\u001b[39m []\n",
      "File \u001b[1;32m~\\anaconda3\\Lib\\random.py:510\u001b[0m, in \u001b[0;36mRandom.choices\u001b[1;34m(self, population, weights, cum_weights, k)\u001b[0m\n\u001b[0;32m    508\u001b[0m \u001b[38;5;28;01mif\u001b[39;00m total \u001b[38;5;241m<\u001b[39m\u001b[38;5;241m=\u001b[39m \u001b[38;5;241m0.0\u001b[39m:\n\u001b[0;32m    509\u001b[0m     \u001b[38;5;28;01mraise\u001b[39;00m \u001b[38;5;167;01mValueError\u001b[39;00m(\u001b[38;5;124m'\u001b[39m\u001b[38;5;124mTotal of weights must be greater than zero\u001b[39m\u001b[38;5;124m'\u001b[39m)\n\u001b[1;32m--> 510\u001b[0m \u001b[38;5;28;01mif\u001b[39;00m \u001b[38;5;129;01mnot\u001b[39;00m _isfinite(total):\n\u001b[0;32m    511\u001b[0m     \u001b[38;5;28;01mraise\u001b[39;00m \u001b[38;5;167;01mValueError\u001b[39;00m(\u001b[38;5;124m'\u001b[39m\u001b[38;5;124mTotal of weights must be finite\u001b[39m\u001b[38;5;124m'\u001b[39m)\n\u001b[0;32m    512\u001b[0m bisect \u001b[38;5;241m=\u001b[39m _bisect\n",
      "\u001b[1;31mKeyboardInterrupt\u001b[0m: "
     ]
    }
   ],
   "source": [
    "import csv\n",
    "import random\n",
    "from faker import Faker\n",
    "\n",
    "fake = Faker()\n",
    "\n",
    "# Function to generate a random number between a given range\n",
    "def random_number(min_num, max_num):\n",
    "    return random.randint(min_num, max_num)\n",
    "\n",
    "# Generate FaceInPage dataset\n",
    "def generate_facein_page_data(num_records):\n",
    "    facein_page_data = []\n",
    "    for ID in range(1, num_records + 1):\n",
    "        Name = fake.name()\n",
    "        Nationality = fake.country()\n",
    "        CountryCod = random_number(1, 50)\n",
    "        Hobby =fake.random_element(elements=('Reading', 'Swimming', 'Traveling','Numismatics','Boxing','Photography','Day Dreaming','Watching Movies & Anime','Playing Football'))\n",
    "        facein_page_data.append([ID, Name, Nationality, CountryCod, Hobby])\n",
    "    return facein_page_data\n",
    "\n",
    "# Generate Associates dataset\n",
    "def generate_associates_data(num_records, max_friend_rel):\n",
    "    associates_data = []\n",
    "    existing_relationships = set()\n",
    "\n",
    "    FriendRel = 1\n",
    "    for i in range(1, num_records + 1):\n",
    "        owner_id = i\n",
    "        for j in range(i + 1, num_records + 1):\n",
    "            if FriendRel > max_friend_rel:\n",
    "                break\n",
    "\n",
    "            PersonA_ID = owner_id\n",
    "            PersonB_ID = j\n",
    "            if PersonA_ID != PersonB_ID and (PersonA_ID, PersonB_ID) not in existing_relationships:\n",
    "                existing_relationships.add((PersonA_ID, PersonB_ID))\n",
    "                existing_relationships.add((PersonA_ID, PersonB_ID))\n",
    "\n",
    "                DateofFriendship = random_number(1, 1000000)\n",
    "                Desc = fake.random_element(elements=('Fiance','Best Friend','Professor','Colleague','College-Friend', 'Family','Friend', 'Other'))\n",
    "                associates_data.append([FriendRel, PersonA_ID, PersonB_ID, DateofFriendship, Desc])\n",
    "            FriendRel += 1\n",
    "\n",
    "    return associates_data\n",
    "\n",
    "# Generate AccessLogs dataset\n",
    "def generate_access_logs_data(num_records):\n",
    "    access_logs_data = []\n",
    "    for AccessID in range(1, num_records + 1):\n",
    "        ByWho = random_number(1, 200000)\n",
    "        WhatPage = random_number(1, 200000)\n",
    "        TypeOfAccess = fake.random_element(elements=('Poked','Viewed', 'Wrote on Timeline','Sent a Message', 'Added a Friendship', 'Other'))\n",
    "        AccessTime = random_number(1, 1000000)\n",
    "\n",
    "        access_logs_data.append([AccessID, ByWho, WhatPage, TypeOfAccess, AccessTime])\n",
    "\n",
    "    return access_logs_data\n",
    "\n",
    "# Define the number of records for each dataset\n",
    "num_facein_page_records = 200000\n",
    "num_associates_records = 20000000\n",
    "num_access_logs_records = 10000000\n",
    "\n",
    "# Generate datasets\n",
    "facein_page_data = generate_facein_page_data(num_facein_page_records)\n",
    "associates_data = generate_associates_data(num_facein_page_records, num_associates_records)\n",
    "access_logs_data = generate_access_logs_data(num_access_logs_records)\n",
    "                                           \n",
    "facein_page_data.insert(0, ['ID', 'Name', 'Nationality', 'CountryCod', 'Hobby'])\n",
    "associates_data.insert(0, ['FriendRel', 'PersonA_ID', 'PersonB_ID', 'DateofFriendship', 'Desc'])\n",
    "access_logs_data.insert(0, ['AccessId', 'ByWho', 'WhatPage', 'TypeOfAccess', 'AccessTime'])\n",
    "\n",
    "\n",
    "# Save datasets to CSV files\n",
    "def save_to_csv(data, filename):\n",
    "    with open(filename, mode=\"w\", newline=\"\") as file:\n",
    "        writer = csv.writer(file)\n",
    "        writer.writerows(data)\n",
    "                                           \n",
    "save_to_csv(facein_page_data, \"FaceInPage.csv\")\n",
    "save_to_csv(associates_data, \"Associates.csv\")\n",
    "save_to_csv(access_logs_data, \"AccessLogs.csv\")"
   ]
  },
  {
   "cell_type": "code",
   "execution_count": 15,
   "id": "9d8bcca5",
   "metadata": {},
   "outputs": [
    {
     "name": "stdout",
     "output_type": "stream",
     "text": [
      "Total number of rows in 'FaceInPage.csv': 200000\n"
     ]
    }
   ],
   "source": [
    "import csv\n",
    "\n",
    "csv_file_path = \"FaceInPage.csv\"\n",
    "\n",
    "row_count = 0\n",
    "\n",
    "with open(csv_file_path, mode=\"r\", newline=\"\") as file:\n",
    "    csv_reader = csv.reader(file)\n",
    "    next(csv_reader)  \n",
    "    for row in csv_reader:\n",
    "        row_count += 1\n",
    "\n",
    "# Checking total number of rows\n",
    "\n",
    "print(f\"Total number of rows in '{csv_file_path}': {row_count}\")\n"
   ]
  },
  {
   "cell_type": "code",
   "execution_count": 16,
   "id": "a04f4e8b",
   "metadata": {},
   "outputs": [
    {
     "name": "stdout",
     "output_type": "stream",
     "text": [
      "Total number of rows in 'Associates.csv': 20000000\n"
     ]
    }
   ],
   "source": [
    "import csv\n",
    "\n",
    "csv_file_path = \"Associates.csv\"\n",
    "\n",
    "row_count = 0\n",
    "\n",
    "with open(csv_file_path, mode=\"r\", newline=\"\") as file:\n",
    "    csv_reader = csv.reader(file)\n",
    "    next(csv_reader)  \n",
    "    for row in csv_reader:\n",
    "        row_count += 1\n",
    "\n",
    "# Checking total number of rows\n",
    "\n",
    "print(f\"Total number of rows in '{csv_file_path}': {row_count}\")\n"
   ]
  },
  {
   "cell_type": "code",
   "execution_count": 17,
   "id": "a1c57ab0",
   "metadata": {},
   "outputs": [
    {
     "name": "stdout",
     "output_type": "stream",
     "text": [
      "Total number of rows in 'AccessLogs.csv': 10000000\n"
     ]
    }
   ],
   "source": [
    "import csv\n",
    "\n",
    "csv_file_path = \"AccessLogs.csv\"\n",
    "\n",
    "row_count = 0\n",
    "\n",
    "with open(csv_file_path, mode=\"r\", newline=\"\") as file:\n",
    "    csv_reader = csv.reader(file)\n",
    "    next(csv_reader) \n",
    "    for row in csv_reader:\n",
    "        row_count += 1\n",
    "        \n",
    "# Checking total number of rows\n",
    "\n",
    "print(f\"Total number of rows in '{csv_file_path}': {row_count}\")\n"
   ]
  },
  {
   "cell_type": "code",
   "execution_count": 3,
   "id": "c9e39a55",
   "metadata": {},
   "outputs": [],
   "source": [
    "# Creating subset of the FaceInPage Big Data Set for submission\n",
    "\n",
    "import pandas as pd\n",
    "\n",
    "df = pd.read_csv('C:/Users/user/Downloads/FaceInPage.csv')\n",
    "\n",
    "subset = df.head(1000)\n",
    "\n",
    "subset.to_csv('subset_FaceInPage.csv', index=False)\n"
   ]
  },
  {
   "cell_type": "code",
   "execution_count": 4,
   "id": "51667e06",
   "metadata": {},
   "outputs": [],
   "source": [
    "# Creating subset of the Associates Big Data Set for submission\n",
    "\n",
    "import pandas as pd\n",
    "\n",
    "df = pd.read_csv('C:/Users/user/Downloads/Associates.csv')\n",
    "\n",
    "subset = df.head(1000)\n",
    "\n",
    "subset.to_csv('subset_Associates.csv', index=False)"
   ]
  },
  {
   "cell_type": "code",
   "execution_count": 5,
   "id": "ea9a11f7",
   "metadata": {},
   "outputs": [],
   "source": [
    "# Creating subset of the AccessLogs Big Data Set for submission\n",
    "\n",
    "import pandas as pd\n",
    "\n",
    "df = pd.read_csv('C:/Users/user/Downloads/AccessLogs.csv')\n",
    "\n",
    "subset = df.head(1000)\n",
    "\n",
    "subset.to_csv('subset_AccessLogs.csv', index=False)"
   ]
  }
 ],
 "metadata": {
  "kernelspec": {
   "display_name": "Python 3 (ipykernel)",
   "language": "python",
   "name": "python3"
  },
  "language_info": {
   "codemirror_mode": {
    "name": "ipython",
    "version": 3
   },
   "file_extension": ".py",
   "mimetype": "text/x-python",
   "name": "python",
   "nbconvert_exporter": "python",
   "pygments_lexer": "ipython3",
   "version": "3.11.4"
  }
 },
 "nbformat": 4,
 "nbformat_minor": 5
}
